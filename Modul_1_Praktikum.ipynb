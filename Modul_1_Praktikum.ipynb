{
  "nbformat": 4,
  "nbformat_minor": 0,
  "metadata": {
    "colab": {
      "provenance": [],
      "mount_file_id": "1XQTp4q2TBKw9-SLnYOWEI3HqJ5MaY_rf",
      "authorship_tag": "ABX9TyMqdvSFTShwKJ0gvu5pBcHq",
      "include_colab_link": true
    },
    "kernelspec": {
      "name": "python3",
      "display_name": "Python 3"
    },
    "language_info": {
      "name": "python"
    }
  },
  "cells": [
    {
      "cell_type": "markdown",
      "metadata": {
        "id": "view-in-github",
        "colab_type": "text"
      },
      "source": [
        "<a href=\"https://colab.research.google.com/github/gloehh/Praktikum-Algoritma-Modul-1-/blob/main/Modul_1_Praktikum.ipynb\" target=\"_parent\"><img src=\"https://colab.research.google.com/assets/colab-badge.svg\" alt=\"Open In Colab\"/></a>"
      ]
    },
    {
      "cell_type": "code",
      "source": [
        "# Kasus 1\n",
        "def hitung_kecepatan(jarak, waktu):\n",
        "    return jarak / waktu\n",
        "print(\"Kasus 1 Kendaraan Darat\")\n",
        "mobil_A = hitung_kecepatan(2000, 90)\n",
        "motor_B = hitung_kecepatan(1500, 50)\n",
        "sepeda_C = hitung_kecepatan(800, 40)\n",
        "print(f\"Kecepatan Mobil A adalah {mobil_A:.2f} meter/detik\")\n",
        "print(f\"Kecepatan Motor B adalah {motor_B:.2f} meter/detik\")\n",
        "print(f\"Kecepatan Sepeda C adalah {sepeda_C:.2f} meter/detik\")\n",
        "if mobil_A > motor_B and mobil_A > sepeda_C:\n",
        "    print(\"Mobil A memiliki kecepatan tertinggi\")\n",
        "elif motor_B > mobil_A and motor_B > sepeda_C:\n",
        "    print(\"Motor B memiliki kecepatan tertinggi\")\n",
        "else:\n",
        "    print(\"Sepeda C memiliki kecepatan tertinggi\")\n",
        "\n",
        "print()\n",
        "\n",
        "\n",
        "# Kasus 2\n",
        "def hitung_kecepatan(jarak, waktu):\n",
        "    return jarak / waktu\n",
        "print(\"Kasus 2 Atlet Lari\")\n",
        "pelari_1 = hitung_kecepatan(400, 50)\n",
        "pelari_2 = hitung_kecepatan(800, 120)\n",
        "pelari_3 = hitung_kecepatan(100, 11)\n",
        "print(f\"Kecepatan Pelari 1 adalah {pelari_1:.2f} meter/detik\")\n",
        "print(f\"Kecepatan Pelari 2 adalah {pelari_2:.2f} meter/detik\")\n",
        "print(f\"Kecepatan Pelari 3 adalah {pelari_3:.2f} meter/detik\")\n",
        "if pelari_1 > pelari_2 and pelari_1 > pelari_3:\n",
        "    print(\"Pelari 1 memiliki kecepatan tertinggi\")\n",
        "elif pelari_2 > pelari_1 and pelari_2 > pelari_3:\n",
        "    print(\"Pelari 2 memiliki kecepatan tertinggi\")\n",
        "else:\n",
        "    print(\"Pelari 3 memiliki kecepatan tertinggi\")\n",
        "\n",
        "print()\n",
        "\n",
        "\n",
        "# Kasus 3\n",
        "def hitung_kecepatan(jarak, waktu):\n",
        "    return jarak / waktu\n",
        "print(\"Kasus 3 Transportasi Umum\")\n",
        "kereta = hitung_kecepatan(5000, 180)\n",
        "bus = hitung_kecepatan(3000, 120)\n",
        "truk = hitung_kecepatan(2500, 120)\n",
        "print(f\"Kecepatan Kereta adalah {kereta:.2f} meter/detik\")\n",
        "print(f\"Kecepatan Bus adalah {bus:.2f} meter/detik\")\n",
        "print(f\"Kecepatan Truk adalah {truk:.2f} meter/detik\")\n",
        "if kereta > bus and kereta > truk:\n",
        "    print(\"Kereta memiliki kecepatan tertinggi\")\n",
        "elif bus > kereta and bus > truk:\n",
        "    print(\"Bus memiliki kecepatan tertinggi\")\n",
        "else:\n",
        "    print(\"Truk memiliki kecepatan tertinggi\")\n",
        "\n",
        "print()\n",
        "\n",
        "\n",
        "# Kasus 4\n",
        "def hitung_kecepatan(jarak, waktu):\n",
        "    return jarak / waktu\n",
        "print(\"Kasus 4 Udara, Laut, dan Darat\")\n",
        "drone = hitung_kecepatan(1200, 60)\n",
        "kapal = hitung_kecepatan(5000, 300)\n",
        "pemain_sepak_bola = hitung_kecepatan(60, 7)\n",
        "print(f\"Kecepatan Drone adalah {drone:.2f} meter/detik\")\n",
        "print(f\"Kecepatan Kapal adalah {kapal:.2f} meter/detik\")\n",
        "print(f\"Kecepatan Pemain_Sepak_Bola adalah {pemain_sepak_bola:.2f} meter/detik\")\n",
        "if drone > kapal and drone > pemain_sepak_bola:\n",
        "    print(\"Drone memiliki kecepatan tertinggi\")\n",
        "elif kapal > drone and kapal > pemain_sepak_bola:\n",
        "    print(\"Kapal memiliki kecepatan tertinggi\")\n",
        "else:\n",
        "    print(\"Pemain_Sepak_Bola memiliki kecepatan tertinggi\")\n",
        "\n",
        "print()"
      ],
      "metadata": {
        "colab": {
          "base_uri": "https://localhost:8080/"
        },
        "id": "d3jArdxPYlqh",
        "outputId": "0671a292-ffd7-4176-e864-646235689ad3"
      },
      "execution_count": null,
      "outputs": [
        {
          "output_type": "stream",
          "name": "stdout",
          "text": [
            "Kasus 1 Kendaraan Darat\n",
            "Kecepatan Mobil A adalah 22.22 meter/detik\n",
            "Kecepatan Motor B adalah 30.00 meter/detik\n",
            "Kecepatan Sepeda C adalah 20.00 meter/detik\n",
            "Motor B memiliki kecepatan tertinggi\n",
            "\n",
            "Kasus 2 Atlet Lari\n",
            "Kecepatan Pelari 1 adalah 8.00 meter/detik\n",
            "Kecepatan Pelari 2 adalah 6.67 meter/detik\n",
            "Kecepatan Pelari 3 adalah 9.09 meter/detik\n",
            "Pelari 3 memiliki kecepatan tertinggi\n",
            "\n",
            "Kasus 3 Transportasi Umum\n",
            "Kecepatan Kereta adalah 27.78 meter/detik\n",
            "Kecepatan Bus adalah 25.00 meter/detik\n",
            "Kecepatan Truk adalah 20.83 meter/detik\n",
            "Kereta memiliki kecepatan tertinggi\n",
            "\n",
            "Kasus 4 Udara, Laut, dan Darat\n",
            "Kecepatan Drone adalah 20.00 meter/detik\n",
            "Kecepatan Kapal adalah 16.67 meter/detik\n",
            "Kecepatan Pemain_Sepak_Bola adalah 8.57 meter/detik\n",
            "Drone memiliki kecepatan tertinggi\n",
            "\n"
          ]
        }
      ]
    }
  ]
}